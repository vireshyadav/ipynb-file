{
 "cells": [
  {
   "cell_type": "code",
   "execution_count": null,
   "id": "3bca3367",
   "metadata": {},
   "outputs": [],
   "source": [
    "https://www.theguardian.com/news/datablog/2012/aug/09/best-selling-books-all-time-fifty-shades-grey-"
   ]
  },
  {
   "cell_type": "code",
   "execution_count": 18,
   "id": "e0c6327f",
   "metadata": {},
   "outputs": [],
   "source": [
    "url =(\"https://www.theguardian.com/ns-all-time-fifty-shades-grey-\")\n",
    "response = requests.get(\"https://www.theguardian.com/news/datablog/2012/aug/09/best-selling-books-all-time-fifty-shades-grey-\")\n",
    "soup = BeautifulSoup(response.text, \"html.parser\")"
   ]
  },
  {
   "cell_type": "code",
   "execution_count": 19,
   "id": "46fbf30d",
   "metadata": {},
   "outputs": [
    {
     "name": "stdout",
     "output_type": "stream",
     "text": [
      "                                                 Title Ratings    Cost\n",
      "0                                 A Light in the Attic   Three  £51.77\n",
      "1                                   Tipping the Velvet     One  £53.74\n",
      "2                                           Soumission     One  £50.10\n",
      "3                                        Sharp Objects    Four  £47.82\n",
      "4                Sapiens: A Brief History of Humankind    Five  £54.23\n",
      "..                                                 ...     ...     ...\n",
      "995  Alice in Wonderland (Alice's Adventures in Won...     One  £55.53\n",
      "996   Ajin: Demi-Human, Volume 1 (Ajin: Demi-Human #1)    Four  £57.06\n",
      "997  A Spy's Devotion (The Regency Spies of London #1)    Five  £16.97\n",
      "998                1st to Die (Women's Murder Club #1)     One  £53.98\n",
      "999                 1,000 Places to See Before You Die    Five  £26.08\n",
      "\n",
      "[1000 rows x 3 columns]\n"
     ]
    }
   ],
   "source": [
    "from bs4 import BeautifulSoup\n",
    "import requests\n",
    "import pandas as pd\n",
    "url='http://books.toscrape.com/catalogue/page-{}.html'\n",
    "\n",
    "title=[]\n",
    "ratings=[]\n",
    "cost=[]\n",
    "for page in range(1,51):\n",
    "    finalurl=url.format(page)\n",
    "    res=requests.get(finalurl).text\n",
    "    soup=BeautifulSoup(res,'html.parser')\n",
    "    for t,r,c in zip(soup.select('.image_container >a>img'),soup.select('p.star-rating'),soup.select('p.price_color')):\n",
    "        title.append(t['alt'])\n",
    "        ratings.append(r.attrs['class'][-1])\n",
    "        cost.append(c.text[1:])\n",
    "\n",
    "df = pd.DataFrame({\"Title\":title,\"Ratings\":ratings,\"Cost\":cost})\n",
    "print(df)\n",
    "df.to_csv('Titlebooks.csv')"
   ]
  },
  {
   "cell_type": "code",
   "execution_count": 20,
   "id": "aab76ddd",
   "metadata": {},
   "outputs": [],
   "source": [
    "from bs4 import BeautifulSoup\n",
    "import requests\n",
    "import pandas as pd\n",
    "\n",
    "res=requests.get(\"http://books.toscrape.com/index.html\").text\n",
    "soup=BeautifulSoup(res,'html.parser')\n",
    "#Get the total page count\n",
    "pagecount=soup.select_one('.current').text.split('of')[-1].strip()\n",
    "\n",
    "title=[]\n",
    "ratings=[]\n",
    "cost=[]\n",
    "for page in range(1,int(pagecount)+1):\n",
    "    finalurl=\"http://books.toscrape.com/catalogue/page-{}.html\".format(page)\n",
    "    res=requests.get(finalurl).text\n",
    "    soup=BeautifulSoup(res,'html.parser')\n",
    "    for t,r,c in zip(soup.select('.image_container >a>img'),soup.select('p.star-rating'),soup.select('p.price_color')):\n",
    "        title.append(t['alt'])\n",
    "        ratings.append(r.attrs['class'][-1])\n",
    "        cost.append(c.text[1:])\n",
    "        \n",
    "        "
   ]
  },
  {
   "cell_type": "code",
   "execution_count": 21,
   "id": "6ba566a5",
   "metadata": {},
   "outputs": [
    {
     "name": "stdout",
     "output_type": "stream",
     "text": [
      "                                                 Title Ratings    Cost\n",
      "0                                 A Light in the Attic   Three  £51.77\n",
      "1                                   Tipping the Velvet     One  £53.74\n",
      "2                                           Soumission     One  £50.10\n",
      "3                                        Sharp Objects    Four  £47.82\n",
      "4                Sapiens: A Brief History of Humankind    Five  £54.23\n",
      "..                                                 ...     ...     ...\n",
      "995  Alice in Wonderland (Alice's Adventures in Won...     One  £55.53\n",
      "996   Ajin: Demi-Human, Volume 1 (Ajin: Demi-Human #1)    Four  £57.06\n",
      "997  A Spy's Devotion (The Regency Spies of London #1)    Five  £16.97\n",
      "998                1st to Die (Women's Murder Club #1)     One  £53.98\n",
      "999                 1,000 Places to See Before You Die    Five  £26.08\n",
      "\n",
      "[1000 rows x 3 columns]\n"
     ]
    }
   ],
   "source": [
    "df = pd.DataFrame({\"Title\":title,\"Ratings\":ratings,\"Cost\":cost})\n",
    "print(df)\n",
    "df.to_csv('Titlebooks.csv')"
   ]
  },
  {
   "cell_type": "code",
   "execution_count": null,
   "id": "745fddf0",
   "metadata": {},
   "outputs": [],
   "source": []
  }
 ],
 "metadata": {
  "kernelspec": {
   "display_name": "Python 3 (ipykernel)",
   "language": "python",
   "name": "python3"
  },
  "language_info": {
   "codemirror_mode": {
    "name": "ipython",
    "version": 3
   },
   "file_extension": ".py",
   "mimetype": "text/x-python",
   "name": "python",
   "nbconvert_exporter": "python",
   "pygments_lexer": "ipython3",
   "version": "3.9.12"
  }
 },
 "nbformat": 4,
 "nbformat_minor": 5
}
